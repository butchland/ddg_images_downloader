{
 "cells": [
  {
   "cell_type": "code",
   "execution_count": null,
   "metadata": {},
   "outputs": [],
   "source": [
    "#hide\n",
    "from nbdev.showdoc import *\n",
    "from ddg_images_downloader.images import *"
   ]
  },
  {
   "cell_type": "markdown",
   "metadata": {},
   "source": [
    "# Duckduckgo Images Downloader\n",
    "\n",
    "> This library provides utilities to download images using duckduckgo images search.\n",
    ">\n",
    "> It uses selenium and chromedriver to search and retrieve images urls as well as\n",
    "> utilities to download the images from the duckduckgo site."
   ]
  },
  {
   "cell_type": "markdown",
   "metadata": {},
   "source": [
    "This file will become your README and also the index of your documentation."
   ]
  },
  {
   "cell_type": "markdown",
   "metadata": {},
   "source": [
    "## Install"
   ]
  },
  {
   "cell_type": "markdown",
   "metadata": {},
   "source": [
    "`pip install ddg_images_downloader`"
   ]
  },
  {
   "cell_type": "markdown",
   "metadata": {},
   "source": [
    "#### Install chromium and chromedriver\n",
    "\n",
    "> If on linux, you can install chromium and chrome driver using the `apt` tool.\n",
    ">\n",
    "```\n",
    "!apt-get update\n",
    "!apt install chromium-chromedriver\n",
    "!cp /usr/lib/chromium-browser/chromedriver /usr/bin\n",
    "```"
   ]
  },
  {
   "cell_type": "markdown",
   "metadata": {},
   "source": [
    "## How to use"
   ]
  },
  {
   "cell_type": "markdown",
   "metadata": {},
   "source": [
    "**Import library**"
   ]
  },
  {
   "cell_type": "code",
   "execution_count": null,
   "metadata": {},
   "outputs": [],
   "source": [
    "from pathlib import Path\n",
    "from fastcore.utils import *\n",
    "from ddg_images_downloader.images import *"
   ]
  },
  {
   "cell_type": "markdown",
   "metadata": {},
   "source": [
    "### Create text files \n",
    "```\n",
    "download_search_urls(path, search_term, search_pattern, **kwargs)\n",
    "```\n",
    "> Each textfile containing the list of urls for each search term  "
   ]
  },
  {
   "cell_type": "code",
   "execution_count": null,
   "metadata": {},
   "outputs": [
    {
     "name": "stdout",
     "output_type": "stream",
     "text": [
      "teddy bear 469\n",
      "black bear 471\n"
     ]
    }
   ],
   "source": [
    "# slow\n",
    "!rm -rf bears\n",
    "bear_types = ['teddy','black']\n",
    "path = Path('bears')\n",
    "download_search_urls(path, bear_types,'{0} bear',scroll_count=4,sleep=5)"
   ]
  },
  {
   "cell_type": "code",
   "execution_count": null,
   "metadata": {},
   "outputs": [
    {
     "data": {
      "text/plain": [
       "(#2) [Path('bears/black.txt'),Path('bears/teddy.txt')]"
      ]
     },
     "execution_count": null,
     "metadata": {},
     "output_type": "execute_result"
    }
   ],
   "source": [
    "path.ls()"
   ]
  },
  {
   "cell_type": "markdown",
   "metadata": {},
   "source": [
    "### Download list of urls from a text file named after the search term\n",
    "```download_search_images_slowly(path,search_terms)\n",
    "```\n",
    "> Each text file named after the search term containing the list of urls will\n",
    "> be downloaded into a separate folder"
   ]
  },
  {
   "cell_type": "code",
   "execution_count": null,
   "metadata": {},
   "outputs": [
    {
     "name": "stdout",
     "output_type": "stream",
     "text": [
      "downloaded:  0  dest:  bears/teddy\n",
      "downloaded:  10  dest:  bears/teddy\n",
      "downloaded:  20  dest:  bears/teddy\n",
      "downloaded:  30  dest:  bears/teddy\n",
      "downloaded:  40  dest:  bears/teddy\n",
      "downloaded:  50  dest:  bears/teddy\n",
      "downloaded:  60  dest:  bears/teddy\n",
      "downloaded:  70  dest:  bears/teddy\n",
      "downloaded:  80  dest:  bears/teddy\n",
      "downloaded:  90  dest:  bears/teddy\n",
      "downloaded:  100  dest:  bears/teddy\n",
      "downloaded:  110  dest:  bears/teddy\n",
      "downloaded:  120  dest:  bears/teddy\n",
      "downloaded:  130  dest:  bears/teddy\n",
      "downloaded:  140  dest:  bears/teddy\n",
      "downloaded:  150  dest:  bears/teddy\n",
      "downloaded:  160  dest:  bears/teddy\n",
      "downloaded:  170  dest:  bears/teddy\n",
      "downloaded:  180  dest:  bears/teddy\n",
      "downloaded:  190  dest:  bears/teddy\n",
      "downloaded:  200  dest:  bears/teddy\n",
      "downloaded:  210  dest:  bears/teddy\n",
      "downloaded:  220  dest:  bears/teddy\n",
      "downloaded:  230  dest:  bears/teddy\n",
      "downloaded:  240  dest:  bears/teddy\n",
      "downloaded:  250  dest:  bears/teddy\n",
      "downloaded:  260  dest:  bears/teddy\n",
      "downloaded:  270  dest:  bears/teddy\n",
      "downloaded:  280  dest:  bears/teddy\n",
      "downloaded:  290  dest:  bears/teddy\n",
      "downloaded:  300  dest:  bears/teddy\n",
      "downloaded:  310  dest:  bears/teddy\n",
      "downloaded:  320  dest:  bears/teddy\n",
      "downloaded:  330  dest:  bears/teddy\n",
      "downloaded:  340  dest:  bears/teddy\n",
      "downloaded:  350  dest:  bears/teddy\n",
      "downloaded:  360  dest:  bears/teddy\n",
      "downloaded:  370  dest:  bears/teddy\n",
      "downloaded:  380  dest:  bears/teddy\n",
      "downloaded:  390  dest:  bears/teddy\n",
      "downloaded:  400  dest:  bears/teddy\n",
      "downloaded:  410  dest:  bears/teddy\n",
      "downloaded:  420  dest:  bears/teddy\n",
      "downloaded:  430  dest:  bears/teddy\n",
      "downloaded:  440  dest:  bears/teddy\n",
      "downloaded:  450  dest:  bears/teddy\n",
      "downloaded:  460  dest:  bears/teddy\n",
      "downloaded:  0  dest:  bears/black\n",
      "downloaded:  10  dest:  bears/black\n",
      "downloaded:  20  dest:  bears/black\n",
      "downloaded:  30  dest:  bears/black\n",
      "downloaded:  40  dest:  bears/black\n",
      "downloaded:  50  dest:  bears/black\n",
      "downloaded:  60  dest:  bears/black\n",
      "downloaded:  70  dest:  bears/black\n",
      "downloaded:  80  dest:  bears/black\n",
      "downloaded:  90  dest:  bears/black\n",
      "downloaded:  100  dest:  bears/black\n",
      "downloaded:  110  dest:  bears/black\n",
      "downloaded:  120  dest:  bears/black\n",
      "downloaded:  130  dest:  bears/black\n",
      "downloaded:  140  dest:  bears/black\n",
      "downloaded:  150  dest:  bears/black\n",
      "downloaded:  160  dest:  bears/black\n",
      "downloaded:  170  dest:  bears/black\n",
      "downloaded:  180  dest:  bears/black\n",
      "downloaded:  190  dest:  bears/black\n",
      "downloaded:  200  dest:  bears/black\n",
      "downloaded:  210  dest:  bears/black\n",
      "downloaded:  220  dest:  bears/black\n",
      "downloaded:  230  dest:  bears/black\n",
      "downloaded:  240  dest:  bears/black\n",
      "downloaded:  250  dest:  bears/black\n",
      "downloaded:  260  dest:  bears/black\n",
      "downloaded:  270  dest:  bears/black\n",
      "downloaded:  280  dest:  bears/black\n",
      "downloaded:  290  dest:  bears/black\n",
      "downloaded:  300  dest:  bears/black\n",
      "downloaded:  310  dest:  bears/black\n",
      "downloaded:  320  dest:  bears/black\n",
      "downloaded:  330  dest:  bears/black\n",
      "downloaded:  340  dest:  bears/black\n",
      "downloaded:  350  dest:  bears/black\n",
      "downloaded:  360  dest:  bears/black\n",
      "downloaded:  370  dest:  bears/black\n",
      "downloaded:  380  dest:  bears/black\n",
      "downloaded:  390  dest:  bears/black\n",
      "downloaded:  400  dest:  bears/black\n",
      "downloaded:  410  dest:  bears/black\n",
      "downloaded:  420  dest:  bears/black\n",
      "downloaded:  430  dest:  bears/black\n",
      "downloaded:  440  dest:  bears/black\n",
      "downloaded:  450  dest:  bears/black\n",
      "downloaded:  460  dest:  bears/black\n",
      "downloaded:  470  dest:  bears/black\n"
     ]
    }
   ],
   "source": [
    "# slow\n",
    "download_search_images_slowly(path,bear_types)"
   ]
  },
  {
   "cell_type": "code",
   "execution_count": null,
   "metadata": {},
   "outputs": [],
   "source": [
    "from nbdev.export import *\n",
    "notebook2script()"
   ]
  }
 ],
 "metadata": {
  "kernelspec": {
   "display_name": "Python 3",
   "language": "python",
   "name": "python3"
  }
 },
 "nbformat": 4,
 "nbformat_minor": 2
}
