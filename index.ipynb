{
 "cells": [
  {
   "cell_type": "code",
   "execution_count": null,
   "metadata": {},
   "outputs": [],
   "source": [
    "#hide\n",
    "from nbdev.showdoc import *\n",
    "from ddg_images_downloader.images import *"
   ]
  },
  {
   "cell_type": "markdown",
   "metadata": {},
   "source": [
    "# Duckduckgo Images Downloader\n",
    "\n",
    "> This library provides utilities to download images using duckduckgo images search.\n",
    ">\n",
    "> It uses selenium and chromedriver to search and retrieve images urls as well as\n",
    "> utilities to download the images from the duckduckgo site."
   ]
  },
  {
   "cell_type": "markdown",
   "metadata": {},
   "source": [
    "## Install"
   ]
  },
  {
   "cell_type": "markdown",
   "metadata": {},
   "source": [
    "`pip install ddg_images_downloader`"
   ]
  },
  {
   "cell_type": "markdown",
   "metadata": {},
   "source": [
    "#### Install chromium and chromedriver\n",
    "\n",
    "> If on linux, you can install chromium and chrome driver using the `apt` tool.\n",
    ">\n",
    "```\n",
    "!apt-get update\n",
    "!apt install chromium-chromedriver\n",
    "!cp /usr/lib/chromium-browser/chromedriver /usr/bin\n",
    "```"
   ]
  },
  {
   "cell_type": "markdown",
   "metadata": {},
   "source": [
    "## How to use"
   ]
  },
  {
   "cell_type": "markdown",
   "metadata": {},
   "source": [
    "**Import library**"
   ]
  },
  {
   "cell_type": "code",
   "execution_count": null,
   "metadata": {},
   "outputs": [],
   "source": [
    "from pathlib import Path\n",
    "from fastcore.utils import *\n",
    "from ddg_images_downloader.images import *"
   ]
  },
  {
   "cell_type": "markdown",
   "metadata": {},
   "source": [
    "### Create text files \n",
    "```\n",
    "download_search_urls(path, search_term, search_pattern, **kwargs)\n",
    "```\n",
    "> Each textfile containing the list of urls for each search term  "
   ]
  },
  {
   "cell_type": "code",
   "execution_count": null,
   "metadata": {},
   "outputs": [],
   "source": [
    "bear_types = ['teddy','black']\n",
    "path = Path('bears')"
   ]
  },
  {
   "cell_type": "code",
   "execution_count": null,
   "metadata": {},
   "outputs": [],
   "source": [
    "# slow\n",
    "!rm -rf bears\n",
    "download_search_urls(path, bear_types,'{0} bear',scroll_count=4,sleep=5)"
   ]
  },
  {
   "cell_type": "code",
   "execution_count": null,
   "metadata": {},
   "outputs": [
    {
     "name": "stdout",
     "output_type": "stream",
     "text": [
      "drwxr-xr-x  473 butch  staff  15136 May 21 22:07 \u001b[34mbears/black\u001b[m\u001b[m\r\n",
      "-rw-r--r--    1 butch  staff  34854 May 21 21:56 bears/black.txt\r\n",
      "-rw-r--r--    1 butch  staff  26720 May 22 00:32 bears/panda.txt\r\n",
      "drwxr-xr-x  471 butch  staff  15072 May 21 22:02 \u001b[34mbears/teddy\u001b[m\u001b[m\r\n",
      "-rw-r--r--    1 butch  staff  34706 May 21 21:55 bears/teddy.txt\r\n"
     ]
    }
   ],
   "source": [
    "!ls -ald {path.as_posix()}/*"
   ]
  },
  {
   "cell_type": "markdown",
   "metadata": {},
   "source": [
    "### Download list of urls from a text file named after the search term\n",
    "```download_search_images_slowly(path,search_terms)\n",
    "```\n",
    "> Each text file named after the search term containing the list of urls will\n",
    "> be downloaded into a separate folder"
   ]
  },
  {
   "cell_type": "code",
   "execution_count": null,
   "metadata": {},
   "outputs": [],
   "source": [
    "# slow\n",
    "download_search_images_slowly(path,bear_types)"
   ]
  }
 ],
 "metadata": {
  "kernelspec": {
   "display_name": "Python 3",
   "language": "python",
   "name": "python3"
  }
 },
 "nbformat": 4,
 "nbformat_minor": 2
}
